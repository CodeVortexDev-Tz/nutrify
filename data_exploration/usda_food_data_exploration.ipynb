{
 "cells": [
  {
   "cell_type": "markdown",
   "metadata": {},
   "source": [
    "# Exploring the data downloaded from USDA FoodData Central\n",
    "\n",
    "See the download here: https://fdc.nal.usda.gov/download-datasets.html\n",
    "\n",
    "Data available in `.data/`.\n",
    "\n",
    "Data dictionary available in  `nutrify/data_exploration/data/FoodData_Central_foundation_food_csv_2021-04-28/Download & API Field Descriptions April 2021.pdf`\n",
    "\n",
    "\n",
    "\n"
   ]
  },
  {
   "cell_type": "code",
   "execution_count": 1,
   "metadata": {},
   "outputs": [],
   "source": [
    "import pandas as pd\n",
    "import numpy as np\n",
    "import matplotlib.pyplot as plt"
   ]
  },
  {
   "cell_type": "markdown",
   "metadata": {},
   "source": [
    "## Get Data"
   ]
  },
  {
   "cell_type": "code",
   "execution_count": 2,
   "metadata": {},
   "outputs": [
    {
     "data": {
      "text/html": [
       "<div>\n",
       "<style scoped>\n",
       "    .dataframe tbody tr th:only-of-type {\n",
       "        vertical-align: middle;\n",
       "    }\n",
       "\n",
       "    .dataframe tbody tr th {\n",
       "        vertical-align: top;\n",
       "    }\n",
       "\n",
       "    .dataframe thead th {\n",
       "        text-align: right;\n",
       "    }\n",
       "</style>\n",
       "<table border=\"1\" class=\"dataframe\">\n",
       "  <thead>\n",
       "    <tr style=\"text-align: right;\">\n",
       "      <th></th>\n",
       "      <th>fdc_id</th>\n",
       "      <th>data_type</th>\n",
       "      <th>description</th>\n",
       "      <th>food_category_id</th>\n",
       "      <th>publication_date</th>\n",
       "    </tr>\n",
       "  </thead>\n",
       "  <tbody>\n",
       "    <tr>\n",
       "      <th>0</th>\n",
       "      <td>319874</td>\n",
       "      <td>sample_food</td>\n",
       "      <td>HUMMUS, SABRA CLASSIC</td>\n",
       "      <td>16.0</td>\n",
       "      <td>2019-04-01</td>\n",
       "    </tr>\n",
       "    <tr>\n",
       "      <th>1</th>\n",
       "      <td>319875</td>\n",
       "      <td>market_acquisition</td>\n",
       "      <td>HUMMUS, SABRA CLASSIC</td>\n",
       "      <td>16.0</td>\n",
       "      <td>2019-04-01</td>\n",
       "    </tr>\n",
       "    <tr>\n",
       "      <th>2</th>\n",
       "      <td>319876</td>\n",
       "      <td>market_acquisition</td>\n",
       "      <td>HUMMUS, SABRA CLASSIC</td>\n",
       "      <td>16.0</td>\n",
       "      <td>2019-04-01</td>\n",
       "    </tr>\n",
       "    <tr>\n",
       "      <th>3</th>\n",
       "      <td>319877</td>\n",
       "      <td>sub_sample_food</td>\n",
       "      <td>Hummus</td>\n",
       "      <td>16.0</td>\n",
       "      <td>2019-04-01</td>\n",
       "    </tr>\n",
       "    <tr>\n",
       "      <th>4</th>\n",
       "      <td>319878</td>\n",
       "      <td>sub_sample_food</td>\n",
       "      <td>Hummus</td>\n",
       "      <td>16.0</td>\n",
       "      <td>2019-04-01</td>\n",
       "    </tr>\n",
       "    <tr>\n",
       "      <th>...</th>\n",
       "      <td>...</td>\n",
       "      <td>...</td>\n",
       "      <td>...</td>\n",
       "      <td>...</td>\n",
       "      <td>...</td>\n",
       "    </tr>\n",
       "    <tr>\n",
       "      <th>27588</th>\n",
       "      <td>1757386</td>\n",
       "      <td>sub_sample_food</td>\n",
       "      <td>NaN</td>\n",
       "      <td>16.0</td>\n",
       "      <td>2021-04-23</td>\n",
       "    </tr>\n",
       "    <tr>\n",
       "      <th>27589</th>\n",
       "      <td>1757387</td>\n",
       "      <td>sub_sample_food</td>\n",
       "      <td>NaN</td>\n",
       "      <td>16.0</td>\n",
       "      <td>2021-04-23</td>\n",
       "    </tr>\n",
       "    <tr>\n",
       "      <th>27590</th>\n",
       "      <td>1757388</td>\n",
       "      <td>sub_sample_food</td>\n",
       "      <td>NaN</td>\n",
       "      <td>16.0</td>\n",
       "      <td>2021-04-23</td>\n",
       "    </tr>\n",
       "    <tr>\n",
       "      <th>27591</th>\n",
       "      <td>1757389</td>\n",
       "      <td>sub_sample_food</td>\n",
       "      <td>NaN</td>\n",
       "      <td>16.0</td>\n",
       "      <td>2021-04-23</td>\n",
       "    </tr>\n",
       "    <tr>\n",
       "      <th>27592</th>\n",
       "      <td>1757390</td>\n",
       "      <td>sub_sample_food</td>\n",
       "      <td>NaN</td>\n",
       "      <td>16.0</td>\n",
       "      <td>2021-04-23</td>\n",
       "    </tr>\n",
       "  </tbody>\n",
       "</table>\n",
       "<p>27593 rows × 5 columns</p>\n",
       "</div>"
      ],
      "text/plain": [
       "        fdc_id           data_type            description  food_category_id  \\\n",
       "0       319874         sample_food  HUMMUS, SABRA CLASSIC              16.0   \n",
       "1       319875  market_acquisition  HUMMUS, SABRA CLASSIC              16.0   \n",
       "2       319876  market_acquisition  HUMMUS, SABRA CLASSIC              16.0   \n",
       "3       319877     sub_sample_food                 Hummus              16.0   \n",
       "4       319878     sub_sample_food                 Hummus              16.0   \n",
       "...        ...                 ...                    ...               ...   \n",
       "27588  1757386     sub_sample_food                    NaN              16.0   \n",
       "27589  1757387     sub_sample_food                    NaN              16.0   \n",
       "27590  1757388     sub_sample_food                    NaN              16.0   \n",
       "27591  1757389     sub_sample_food                    NaN              16.0   \n",
       "27592  1757390     sub_sample_food                    NaN              16.0   \n",
       "\n",
       "      publication_date  \n",
       "0           2019-04-01  \n",
       "1           2019-04-01  \n",
       "2           2019-04-01  \n",
       "3           2019-04-01  \n",
       "4           2019-04-01  \n",
       "...                ...  \n",
       "27588       2021-04-23  \n",
       "27589       2021-04-23  \n",
       "27590       2021-04-23  \n",
       "27591       2021-04-23  \n",
       "27592       2021-04-23  \n",
       "\n",
       "[27593 rows x 5 columns]"
      ]
     },
     "execution_count": 2,
     "metadata": {},
     "output_type": "execute_result"
    }
   ],
   "source": [
    "df = pd.read_csv(\"data/FoodData_Central_foundation_food_csv_2021-04-28/food.csv\")\n",
    "df"
   ]
  },
  {
   "cell_type": "code",
   "execution_count": 15,
   "metadata": {},
   "outputs": [
    {
     "data": {
      "text/plain": [
       "11368"
      ]
     },
     "execution_count": 15,
     "metadata": {},
     "output_type": "execute_result"
    }
   ],
   "source": [
    "# How many unique?\n",
    "unique_descriptions = df[\"description\"].unique()\n",
    "len(unique_descriptions)"
   ]
  },
  {
   "cell_type": "markdown",
   "metadata": {},
   "source": [
    "Beautiful, this gives us ~11368 foods to work with as a goal to model. But surely they can be split into less categories?"
   ]
  },
  {
   "cell_type": "code",
   "execution_count": 16,
   "metadata": {},
   "outputs": [
    {
     "data": {
      "text/plain": [
       "array(['HUMMUS, SABRA CLASSIC', 'Hummus', 'HUMMUS, OTHER',\n",
       "       'Hummus - NFY12140O', 'Hummus - NFY12140P', 'Hummus - NFY12140Q',\n",
       "       'Hummus - NFY12140R', 'Hummus - NFY12140S', 'Hummus - NFY12140F',\n",
       "       'Hummus - NFY12140G'], dtype=object)"
      ]
     },
     "execution_count": 16,
     "metadata": {},
     "output_type": "execute_result"
    }
   ],
   "source": [
    "unique_descriptions[:10]"
   ]
  },
  {
   "cell_type": "code",
   "execution_count": 17,
   "metadata": {},
   "outputs": [
    {
     "data": {
      "text/plain": [
       "array(['MUSHROOMS, LIONS MANE', 'OIL, PEANUT', 'OIL, SUNFLOWER',\n",
       "       'OIL, SAFFLOWER', 'OIL, OLIVE, EXTRA LIGHT',\n",
       "       'SPINACH, REGULAR (MATURE)', 'SPINACH, BABY', 'TOMATOES, ROMA',\n",
       "       \"MUSHROOMS, LION'S MANE\", nan], dtype=object)"
      ]
     },
     "execution_count": 17,
     "metadata": {},
     "output_type": "execute_result"
    }
   ],
   "source": [
    "unique_descriptions[-10:]"
   ]
  },
  {
   "cell_type": "code",
   "execution_count": 18,
   "metadata": {},
   "outputs": [
    {
     "data": {
      "text/plain": [
       "array(['Tomatoes, diced, canned, STORE BRAND, SUNNY SELECT & VINE RIPE (CA2, NC) -  CY120AX',\n",
       "       'Tomatoes, diced, canned, STORE BRAND, VINE RIPE (NC) - NFY120AAU',\n",
       "       'Tomatoes, diced, canned, STORE BRAND, SUNNY SELECT (CA) - NFY120AD2',\n",
       "       'Tomatoes, diced, canned, STORE BRAND, VINE RIPE (NC) - NFY120AAV',\n",
       "       'Tomatoes, diced, canned, STORE BRAND, SUNNY SELECT (CA) - NFY120AD1',\n",
       "       'Minerals, Tomatoes, diced, canned, STORE BRAND, SUNNY SELECT & VINE RIPE (CA2, NC) - NFY120ANZ',\n",
       "       'Proximates, Tomatoes, diced, canned, STORE BRAND, SUNNY SELECT & VINE RIPE (CA2, NC) - NFY120AO0',\n",
       "       'Sugars, Tomatoes, diced, canned, STORE BRAND, SUNNY SELECT & VINE RIPE (CA2, NC) - NFY120AO1',\n",
       "       'Tomatoes, diced, canned, STORE BRAND, HYTOP PREMIUM QUALITY & AMERICAS CHOICE (CA1, NY) -  CY120B0',\n",
       "       'Tomatoes, diced, canned, STORE BRAND, AMERICAS CHOICE (NY) - NFY120AAL'],\n",
       "      dtype=object)"
      ]
     },
     "execution_count": 18,
     "metadata": {},
     "output_type": "execute_result"
    }
   ],
   "source": [
    "# Find random indexes of food to explore\n",
    "import random\n",
    "random_number = random.randint(0, len(unique)-10)\n",
    "unique_descriptions[random_number:random_number+10]"
   ]
  },
  {
   "cell_type": "code",
   "execution_count": 14,
   "metadata": {},
   "outputs": [
    {
     "data": {
      "text/plain": [
       "Index(['fdc_id', 'data_type', 'description', 'food_category_id',\n",
       "       'publication_date'],\n",
       "      dtype='object')"
      ]
     },
     "execution_count": 14,
     "metadata": {},
     "output_type": "execute_result"
    }
   ],
   "source": [
    "df.columns"
   ]
  },
  {
   "cell_type": "markdown",
   "metadata": {},
   "source": [
    "### Food Categories\n",
    "\n",
    "Let's dive into food categories. "
   ]
  },
  {
   "cell_type": "code",
   "execution_count": 20,
   "metadata": {},
   "outputs": [
    {
     "data": {
      "text/plain": [
       "19"
      ]
     },
     "execution_count": 20,
     "metadata": {},
     "output_type": "execute_result"
    }
   ],
   "source": [
    "unique_categories = df[\"food_category_id\"].unique()\n",
    "len(unique_categories)"
   ]
  },
  {
   "cell_type": "markdown",
   "metadata": {},
   "source": [
    "19 different food categories... I wonder what these are?"
   ]
  },
  {
   "cell_type": "code",
   "execution_count": 21,
   "metadata": {},
   "outputs": [
    {
     "data": {
      "text/plain": [
       "1.0     6406\n",
       "9.0     3982\n",
       "11.0    3788\n",
       "4.0     2924\n",
       "16.0    2450\n",
       "5.0     1503\n",
       "14.0     918\n",
       "15.0     913\n",
       "7.0      795\n",
       "10.0     613\n",
       "20.0     588\n",
       "6.0      568\n",
       "18.0     488\n",
       "25.0     474\n",
       "13.0     454\n",
       "2.0      386\n",
       "12.0     267\n",
       "19.0      54\n",
       "Name: food_category_id, dtype: int64"
      ]
     },
     "execution_count": 21,
     "metadata": {},
     "output_type": "execute_result"
    }
   ],
   "source": [
    "df[\"food_category_id\"].value_counts()"
   ]
  },
  {
   "cell_type": "code",
   "execution_count": 25,
   "metadata": {},
   "outputs": [
    {
     "data": {
      "text/html": [
       "<div>\n",
       "<style scoped>\n",
       "    .dataframe tbody tr th:only-of-type {\n",
       "        vertical-align: middle;\n",
       "    }\n",
       "\n",
       "    .dataframe tbody tr th {\n",
       "        vertical-align: top;\n",
       "    }\n",
       "\n",
       "    .dataframe thead th {\n",
       "        text-align: right;\n",
       "    }\n",
       "</style>\n",
       "<table border=\"1\" class=\"dataframe\">\n",
       "  <thead>\n",
       "    <tr style=\"text-align: right;\">\n",
       "      <th></th>\n",
       "      <th>id</th>\n",
       "      <th>code</th>\n",
       "      <th>description</th>\n",
       "    </tr>\n",
       "  </thead>\n",
       "  <tbody>\n",
       "    <tr>\n",
       "      <th>0</th>\n",
       "      <td>1</td>\n",
       "      <td>100</td>\n",
       "      <td>Dairy and Egg Products</td>\n",
       "    </tr>\n",
       "    <tr>\n",
       "      <th>1</th>\n",
       "      <td>2</td>\n",
       "      <td>200</td>\n",
       "      <td>Spices and Herbs</td>\n",
       "    </tr>\n",
       "    <tr>\n",
       "      <th>2</th>\n",
       "      <td>3</td>\n",
       "      <td>300</td>\n",
       "      <td>Baby Foods</td>\n",
       "    </tr>\n",
       "    <tr>\n",
       "      <th>3</th>\n",
       "      <td>4</td>\n",
       "      <td>400</td>\n",
       "      <td>Fats and Oils</td>\n",
       "    </tr>\n",
       "    <tr>\n",
       "      <th>4</th>\n",
       "      <td>5</td>\n",
       "      <td>500</td>\n",
       "      <td>Poultry Products</td>\n",
       "    </tr>\n",
       "    <tr>\n",
       "      <th>5</th>\n",
       "      <td>6</td>\n",
       "      <td>600</td>\n",
       "      <td>Soups, Sauces, and Gravies</td>\n",
       "    </tr>\n",
       "    <tr>\n",
       "      <th>6</th>\n",
       "      <td>7</td>\n",
       "      <td>700</td>\n",
       "      <td>Sausages and Luncheon Meats</td>\n",
       "    </tr>\n",
       "    <tr>\n",
       "      <th>7</th>\n",
       "      <td>8</td>\n",
       "      <td>800</td>\n",
       "      <td>Breakfast Cereals</td>\n",
       "    </tr>\n",
       "    <tr>\n",
       "      <th>8</th>\n",
       "      <td>9</td>\n",
       "      <td>900</td>\n",
       "      <td>Fruits and Fruit Juices</td>\n",
       "    </tr>\n",
       "    <tr>\n",
       "      <th>9</th>\n",
       "      <td>10</td>\n",
       "      <td>1000</td>\n",
       "      <td>Pork Products</td>\n",
       "    </tr>\n",
       "    <tr>\n",
       "      <th>10</th>\n",
       "      <td>11</td>\n",
       "      <td>1100</td>\n",
       "      <td>Vegetables and Vegetable Products</td>\n",
       "    </tr>\n",
       "    <tr>\n",
       "      <th>11</th>\n",
       "      <td>12</td>\n",
       "      <td>1200</td>\n",
       "      <td>Nut and Seed Products</td>\n",
       "    </tr>\n",
       "    <tr>\n",
       "      <th>12</th>\n",
       "      <td>13</td>\n",
       "      <td>1300</td>\n",
       "      <td>Beef Products</td>\n",
       "    </tr>\n",
       "    <tr>\n",
       "      <th>13</th>\n",
       "      <td>14</td>\n",
       "      <td>1400</td>\n",
       "      <td>Beverages</td>\n",
       "    </tr>\n",
       "    <tr>\n",
       "      <th>14</th>\n",
       "      <td>15</td>\n",
       "      <td>1500</td>\n",
       "      <td>Finfish and Shellfish Products</td>\n",
       "    </tr>\n",
       "    <tr>\n",
       "      <th>15</th>\n",
       "      <td>16</td>\n",
       "      <td>1600</td>\n",
       "      <td>Legumes and Legume Products</td>\n",
       "    </tr>\n",
       "    <tr>\n",
       "      <th>16</th>\n",
       "      <td>17</td>\n",
       "      <td>1700</td>\n",
       "      <td>Lamb, Veal, and Game Products</td>\n",
       "    </tr>\n",
       "    <tr>\n",
       "      <th>17</th>\n",
       "      <td>18</td>\n",
       "      <td>1800</td>\n",
       "      <td>Baked Products</td>\n",
       "    </tr>\n",
       "    <tr>\n",
       "      <th>18</th>\n",
       "      <td>19</td>\n",
       "      <td>1900</td>\n",
       "      <td>Sweets</td>\n",
       "    </tr>\n",
       "    <tr>\n",
       "      <th>19</th>\n",
       "      <td>20</td>\n",
       "      <td>2000</td>\n",
       "      <td>Cereal Grains and Pasta</td>\n",
       "    </tr>\n",
       "    <tr>\n",
       "      <th>20</th>\n",
       "      <td>21</td>\n",
       "      <td>2100</td>\n",
       "      <td>Fast Foods</td>\n",
       "    </tr>\n",
       "    <tr>\n",
       "      <th>21</th>\n",
       "      <td>22</td>\n",
       "      <td>2200</td>\n",
       "      <td>Meals, Entrees, and Side Dishes</td>\n",
       "    </tr>\n",
       "    <tr>\n",
       "      <th>22</th>\n",
       "      <td>23</td>\n",
       "      <td>2500</td>\n",
       "      <td>Snacks</td>\n",
       "    </tr>\n",
       "    <tr>\n",
       "      <th>23</th>\n",
       "      <td>24</td>\n",
       "      <td>3500</td>\n",
       "      <td>American Indian/Alaska Native Foods</td>\n",
       "    </tr>\n",
       "    <tr>\n",
       "      <th>24</th>\n",
       "      <td>25</td>\n",
       "      <td>3600</td>\n",
       "      <td>Restaurant Foods</td>\n",
       "    </tr>\n",
       "    <tr>\n",
       "      <th>25</th>\n",
       "      <td>26</td>\n",
       "      <td>4500</td>\n",
       "      <td>Branded Food Products Database</td>\n",
       "    </tr>\n",
       "    <tr>\n",
       "      <th>26</th>\n",
       "      <td>27</td>\n",
       "      <td>2600</td>\n",
       "      <td>Quality Control Materials</td>\n",
       "    </tr>\n",
       "    <tr>\n",
       "      <th>27</th>\n",
       "      <td>28</td>\n",
       "      <td>1410</td>\n",
       "      <td>Alcoholic Beverages</td>\n",
       "    </tr>\n",
       "  </tbody>\n",
       "</table>\n",
       "</div>"
      ],
      "text/plain": [
       "    id  code                          description\n",
       "0    1   100               Dairy and Egg Products\n",
       "1    2   200                     Spices and Herbs\n",
       "2    3   300                           Baby Foods\n",
       "3    4   400                        Fats and Oils\n",
       "4    5   500                     Poultry Products\n",
       "5    6   600           Soups, Sauces, and Gravies\n",
       "6    7   700          Sausages and Luncheon Meats\n",
       "7    8   800                    Breakfast Cereals\n",
       "8    9   900              Fruits and Fruit Juices\n",
       "9   10  1000                        Pork Products\n",
       "10  11  1100    Vegetables and Vegetable Products\n",
       "11  12  1200                Nut and Seed Products\n",
       "12  13  1300                        Beef Products\n",
       "13  14  1400                            Beverages\n",
       "14  15  1500       Finfish and Shellfish Products\n",
       "15  16  1600          Legumes and Legume Products\n",
       "16  17  1700        Lamb, Veal, and Game Products\n",
       "17  18  1800                       Baked Products\n",
       "18  19  1900                               Sweets\n",
       "19  20  2000              Cereal Grains and Pasta\n",
       "20  21  2100                           Fast Foods\n",
       "21  22  2200      Meals, Entrees, and Side Dishes\n",
       "22  23  2500                               Snacks\n",
       "23  24  3500  American Indian/Alaska Native Foods\n",
       "24  25  3600                     Restaurant Foods\n",
       "25  26  4500       Branded Food Products Database\n",
       "26  27  2600            Quality Control Materials\n",
       "27  28  1410                  Alcoholic Beverages"
      ]
     },
     "execution_count": 25,
     "metadata": {},
     "output_type": "execute_result"
    }
   ],
   "source": [
    "# Get food categories\n",
    "food_cats = pd.read_csv(\"data/FoodData_Central_Supporting_Data_csv_2021-04-28/food_category.csv\")\n",
    "food_cats"
   ]
  },
  {
   "cell_type": "code",
   "execution_count": null,
   "metadata": {},
   "outputs": [],
   "source": []
  }
 ],
 "metadata": {
  "interpreter": {
   "hash": "d835d65c63a6c9cc57cbb2d28127297ccd0d78272d13142cbb021752b6b62ae3"
  },
  "kernelspec": {
   "display_name": "Python 3.9.6 64-bit (conda)",
   "name": "python3"
  },
  "language_info": {
   "codemirror_mode": {
    "name": "ipython",
    "version": 3
   },
   "file_extension": ".py",
   "mimetype": "text/x-python",
   "name": "python",
   "nbconvert_exporter": "python",
   "pygments_lexer": "ipython3",
   "version": "3.9.6"
  },
  "orig_nbformat": 4
 },
 "nbformat": 4,
 "nbformat_minor": 2
}
